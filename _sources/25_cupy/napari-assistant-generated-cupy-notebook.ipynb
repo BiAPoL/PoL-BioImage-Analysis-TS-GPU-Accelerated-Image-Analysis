{
 "cells": [
  {
   "cell_type": "code",
   "execution_count": null,
   "id": "6aeccf6b",
   "metadata": {
    "lines_to_next_cell": 2
   },
   "outputs": [],
   "source": [
    "from skimage.io import imread\n",
    "import napari_cupy_image_processing as ncupy  # version 0.4.1"
   ]
  },
  {
   "cell_type": "markdown",
   "id": "dbf02833",
   "metadata": {},
   "source": [
    "## Loading 'blobs'"
   ]
  },
  {
   "cell_type": "code",
   "execution_count": null,
   "id": "46077aea",
   "metadata": {
    "lines_to_next_cell": 2
   },
   "outputs": [],
   "source": [
    "image0_b = imread(\n",
    "    \"C:/Users/haase/mambaforge/envs/cupy39_1/lib/site-packages/napari_pyclesperanto_assistant/data/blobs.tif\")\n",
    "image0_b"
   ]
  },
  {
   "cell_type": "markdown",
   "id": "0f5b9244",
   "metadata": {},
   "source": [
    "## gaussian filter"
   ]
  },
  {
   "cell_type": "code",
   "execution_count": null,
   "id": "c908a03d",
   "metadata": {},
   "outputs": [],
   "source": [
    "image1_G = ncupy.gaussian_filter(image0_b, 1.0)\n",
    "image1_G"
   ]
  },
  {
   "cell_type": "markdown",
   "id": "f481ef57",
   "metadata": {},
   "source": [
    "## threshold otsu"
   ]
  },
  {
   "cell_type": "code",
   "execution_count": null,
   "id": "678ca612",
   "metadata": {},
   "outputs": [],
   "source": [
    "image2_T = ncupy.threshold_otsu(image1_G)\n",
    "image2_T"
   ]
  },
  {
   "cell_type": "markdown",
   "id": "a238fcbf",
   "metadata": {},
   "source": [
    "## label"
   ]
  },
  {
   "cell_type": "code",
   "execution_count": null,
   "id": "11b5c893",
   "metadata": {},
   "outputs": [],
   "source": [
    "image3_C = ncupy.label(image2_T)\n",
    "image3_C"
   ]
  }
 ],
 "metadata": {
  "jupytext": {
   "cell_metadata_filter": "-all",
   "main_language": "python",
   "notebook_metadata_filter": "-all"
  }
 },
 "nbformat": 4,
 "nbformat_minor": 5
}