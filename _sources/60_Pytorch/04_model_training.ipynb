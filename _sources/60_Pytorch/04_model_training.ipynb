{
 "cells": [
  {
   "cell_type": "markdown",
   "id": "115b6528",
   "metadata": {},
   "source": [
    "# Training a Unet\n",
    "\n",
    "Now we have all pieces in place to train a network to segment images for us. Let's do it!"
   ]
  },
  {
   "cell_type": "code",
   "execution_count": null,
   "id": "6973b36a",
   "metadata": {},
   "outputs": [],
   "source": [
    "from torch.utils.data import DataLoader\n",
    "from data import DSBData, get_dsb2018_train_files"
   ]
  },
  {
   "cell_type": "code",
   "execution_count": null,
   "id": "6c522cc1",
   "metadata": {},
   "outputs": [],
   "source": [
    "import torch\n",
    "from monai.networks.nets import BasicUNet"
   ]
  },
  {
   "cell_type": "code",
   "execution_count": null,
   "id": "191569d4",
   "metadata": {},
   "outputs": [],
   "source": [
    "train_img_files, train_lbl_files = get_dsb2018_train_files()\n",
    "\n",
    "train_data = DSBData(\n",
    "    image_files=train_img_files,\n",
    "    label_files=train_lbl_files,\n",
    "    target_shape=(256, 256)\n",
    ")\n",
    "\n",
    "print(len(train_data))\n",
    "\n",
    "train_loader = DataLoader(train_data, batch_size=32, shuffle=True)"
   ]
  },
  {
   "cell_type": "code",
   "execution_count": null,
   "id": "24514a8d",
   "metadata": {},
   "outputs": [],
   "source": [
    "model = BasicUNet(\n",
    "    spatial_dims=2,\n",
    "    in_channels=1,\n",
    "    out_channels=1,\n",
    "    features=[16, 16, 32, 64, 128, 16],\n",
    "    act=\"relu\",\n",
    "    norm=\"batch\",\n",
    "    dropout=0.25,\n",
    ")"
   ]
  },
  {
   "cell_type": "markdown",
   "id": "3b2d1cad",
   "metadata": {},
   "source": [
    "Training of a neural network means updating its parameters (weights) in order to descrese what is called the loss function. This is performed using an optimizer (`Adam` here) which uses the gradient of this loss function ith respect to the model parameters in order to adjust model weights. This should lead to an ever descreasing loss during training."
   ]
  },
  {
   "cell_type": "code",
   "execution_count": null,
   "id": "8961c8d4",
   "metadata": {},
   "outputs": [],
   "source": [
    "optimizer = torch.optim.Adam(model.parameters(), lr=1.e-3)\n",
    "init_params = list(model.parameters())[0].clone().detach() #storing it for later use"
   ]
  },
  {
   "cell_type": "markdown",
   "id": "3ac3ab18",
   "metadata": {},
   "source": [
    "Such a training is performed by iterating over the batches of the training dataset multiple times. Each full iteration over the dataset is termed an epoch."
   ]
  },
  {
   "cell_type": "code",
   "execution_count": null,
   "id": "90632dca",
   "metadata": {},
   "outputs": [],
   "source": [
    "max_nepochs = 1\n",
    "log_interval = 1\n",
    "model.train(True) #the model is put in training mode, i.e. gradients are computed\n",
    "\n",
    "# BCEWithLogitsLoss expects raw unnormalized scores and combines sigmoid + BCELoss for better\n",
    "# numerical stability.\n",
    "# expects B x C x W x D\n",
    "loss_function = torch.nn.BCEWithLogitsLoss(reduction=\"mean\")\n",
    "\n",
    "for epoch in range(1, max_nepochs + 1):\n",
    "    for batch_idx, (X, y) in enumerate(train_loader):\n",
    "        # print(\"train\", batch_idx, X.shape, y.shape)\n",
    "\n",
    "        optimizer.zero_grad()\n",
    "\n",
    "        prediction_logits = model(X)\n",
    "        \n",
    "        batch_loss = loss_function(prediction_logits, y)\n",
    "\n",
    "        batch_loss.backward()\n",
    "\n",
    "        optimizer.step()\n",
    "\n",
    "        if batch_idx % log_interval == 0:\n",
    "            print(\n",
    "                \"Train Epoch:\",\n",
    "                epoch,\n",
    "                \"Batch:\",\n",
    "                batch_idx,\n",
    "                \"Total samples processed:\",\n",
    "                (batch_idx + 1) * train_loader.batch_size,\n",
    "                \"Loss:\",\n",
    "                batch_loss.item(),\n",
    "            )"
   ]
  },
  {
   "cell_type": "code",
   "execution_count": null,
   "id": "407fd45a",
   "metadata": {},
   "outputs": [],
   "source": [
    "final_params = list(model.parameters())[0].clone().detach()\n",
    "assert not torch.allclose(init_params, final_params)"
   ]
  },
  {
   "cell_type": "markdown",
   "id": "66449832",
   "metadata": {},
   "source": [
    "## Look at some predictions\n",
    "\n",
    "Now that the model has been trained for a little bit, we are looking at the predictions again. Usually model training has to be peformed longer, so don't expect any wonders. Also keep in mind that the predictions here are based on the data the model was trained on. Those predictions might be far better than those on data not used during training. But this is a story for later."
   ]
  },
  {
   "cell_type": "code",
   "execution_count": null,
   "id": "86e8123c",
   "metadata": {},
   "outputs": [],
   "source": [
    "import matplotlib.pyplot as plt"
   ]
  },
  {
   "cell_type": "code",
   "execution_count": null,
   "id": "7a473a7f",
   "metadata": {},
   "outputs": [],
   "source": [
    "# convert to 0/1 range on each pixel\n",
    "prediction = torch.nn.functional.sigmoid(prediction_logits)\n",
    "prediction_binary = (prediction > 0.5).to(torch.uint8)\n",
    "\n",
    "sidx = 0\n",
    "plt.subplot(131)\n",
    "plt.imshow(X[sidx, 0].numpy(), cmap=\"gray\")\n",
    "plt.title(\"Input\")\n",
    "\n",
    "plt.subplot(132)\n",
    "plt.imshow(y[sidx, 0].numpy(), cmap=\"gray\")\n",
    "plt.title(\"Ground truth\")\n",
    "\n",
    "plt.subplot(133)\n",
    "plt.imshow(prediction_binary.detach()[sidx, 0].numpy(), cmap=\"gray\")\n",
    "plt.title(\"Predictions\")"
   ]
  },
  {
   "cell_type": "markdown",
   "id": "f5ff2eff-c06b-4ed3-97ad-1517de6e9c2d",
   "metadata": {},
   "source": [
    "## Exercise: We can do better!\n",
    "\n",
    "Take the training code from above and have the model train for longer. For example, try 10 or 20 epochs. Do you see any improvements?"
   ]
  },
  {
   "cell_type": "code",
   "execution_count": null,
   "id": "2440511a-c0a9-4d7d-a1d6-738fc8ea12bb",
   "metadata": {},
   "outputs": [],
   "source": []
  }
 ],
 "metadata": {
  "kernelspec": {
   "display_name": "torch_intro_env",
   "language": "python",
   "name": "torch_intro_env"
  },
  "language_info": {
   "codemirror_mode": {
    "name": "ipython",
    "version": 3
   },
   "file_extension": ".py",
   "mimetype": "text/x-python",
   "name": "python",
   "nbconvert_exporter": "python",
   "pygments_lexer": "ipython3",
   "version": "3.10.12"
  }
 },
 "nbformat": 4,
 "nbformat_minor": 5
}
