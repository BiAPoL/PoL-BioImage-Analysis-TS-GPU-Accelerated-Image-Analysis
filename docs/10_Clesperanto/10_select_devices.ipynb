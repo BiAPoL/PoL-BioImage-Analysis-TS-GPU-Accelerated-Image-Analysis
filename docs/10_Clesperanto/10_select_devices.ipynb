{
 "cells": [
  {
   "cell_type": "markdown",
   "id": "fa467b9c",
   "metadata": {},
   "source": [
    "# List and select devices\n",
    "\n",
    "pyclesperanto relies on sending computing instructions to compute devices. Here, devices are Computational Units (CUs) compatible with `OpenCL`. This can be GPUs and CPUs although we would prefer to use GPUs for their speed capacities.\n",
    "\n",
    "Before starting to use pyclesperanto, it is important to know which devices are available on your system and which one you want to use based on their performances."
   ]
  },
  {
   "cell_type": "code",
   "execution_count": 10,
   "id": "69c32066",
   "metadata": {},
   "outputs": [],
   "source": [
    "import pyclesperanto_prototype as cle"
   ]
  },
  {
   "cell_type": "markdown",
   "id": "52f3036a-a773-46df-987f-7a68c2a9cac2",
   "metadata": {},
   "source": [
    "### Exercice 1: List devices and select a device\n",
    "\n",
    "Using the method `available_device_names()` and `select_device()` from the `pyclesperanto_prototype` package, list the available devices on your machine and select one."
   ]
  },
  {
   "cell_type": "code",
   "execution_count": 11,
   "id": "1922cc9a-556c-414e-ade1-be8c517c209b",
   "metadata": {},
   "outputs": [
    {
     "name": "stdout",
     "output_type": "stream",
     "text": [
      "2 devices found:\n",
      "['pthread-Intel(R) Core(TM) i7-7820X CPU @ 3.60GHz', 'NVIDIA GeForce RTX 2080 SUPER']\n"
     ]
    }
   ],
   "source": [
    "# TODO"
   ]
  },
  {
   "cell_type": "code",
   "execution_count": 12,
   "id": "dc4eaf76-f528-4256-a611-02ea3053bb73",
   "metadata": {},
   "outputs": [
    {
     "data": {
      "text/plain": [
       "<pthread-Intel(R) Core(TM) i7-7820X CPU @ 3.60GHz on Platform: Portable Computing Language (2 refs)>"
      ]
     },
     "execution_count": 12,
     "metadata": {},
     "output_type": "execute_result"
    }
   ],
   "source": [
    "# TODO"
   ]
  },
  {
   "cell_type": "markdown",
   "id": "a91eb56e",
   "metadata": {},
   "source": [
    "__Tips:__ Devices are defined by a `name` and a `dev_type` (gpu, cpu, all). You can use the `select_device` arguments to precisely select the device you want to use. This can be useful if you have multiple devices of the same type but not the same type (Hello Macbook Pro with M1 and M2 chips !)."
   ]
  },
  {
   "cell_type": "markdown",
   "id": "274a322e",
   "metadata": {},
   "source": [
    "## Exercice 2: Which device to choose?\n",
    "\n",
    "For the lucky of you who have access to multiple devices, you might wonder which one to choose. Here are some hints:\n",
    "- Prefer GPU over CPU for speed\n",
    "- Prefer GPU with more memory over GPU with less memory (*`GLOBAL_MEM_SIZE`*, *`MAX_MEM_ALLOC_SIZE`*)\n",
    "- Prefer GPU with more or faster compute units (*`MAX_COMPUTE_UNITS`*, *`MAX_CLOCK_FREQUENCY`*)\n",
    "\n",
    "Those information can be retrieve using the `cl_info` method to print the __full__ information of all the devices available.\n",
    "\n",
    "Print them and tell us which one, in your opinion, is the most adapted.\n"
   ]
  },
  {
   "cell_type": "code",
   "execution_count": 13,
   "id": "0c0d5c20",
   "metadata": {},
   "outputs": [],
   "source": [
    "# TODO"
   ]
  },
  {
   "cell_type": "markdown",
   "id": "e6416521",
   "metadata": {},
   "source": [
    "__Tips:__ you may want to save this into a text file\n",
    "```python\n",
    "with open(\"cl_info.txt\", \"w\") as f:\n",
    "    f.write( ... )\n",
    "```"
   ]
  }
 ],
 "metadata": {
  "kernelspec": {
   "display_name": "Python 3 (ipykernel)",
   "language": "python",
   "name": "python3"
  },
  "language_info": {
   "codemirror_mode": {
    "name": "ipython",
    "version": 3
   },
   "file_extension": ".py",
   "mimetype": "text/x-python",
   "name": "python",
   "nbconvert_exporter": "python",
   "pygments_lexer": "ipython3",
   "version": "3.9.17"
  }
 },
 "nbformat": 4,
 "nbformat_minor": 5
}
