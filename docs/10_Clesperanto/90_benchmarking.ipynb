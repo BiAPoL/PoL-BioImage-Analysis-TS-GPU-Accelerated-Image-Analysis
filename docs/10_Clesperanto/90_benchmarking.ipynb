{
 "cells": [
  {
   "cell_type": "code",
   "execution_count": 1,
   "id": "33e723b9",
   "metadata": {},
   "outputs": [
    {
     "data": {
      "text/plain": [
       "<NVIDIA GeForce RTX 2080 SUPER on Platform: NVIDIA CUDA (1 refs)>"
      ]
     },
     "execution_count": 1,
     "metadata": {},
     "output_type": "execute_result"
    }
   ],
   "source": [
    "import pyclesperanto_prototype as cle\n",
    "import numpy as np\n",
    "from skimage.io import imread, imshow\n",
    "import matplotlib.pyplot as plt\n",
    "cle.select_device('TX')  # TODO: change to your GPU"
   ]
  },
  {
   "cell_type": "markdown",
   "id": "71a3a51a",
   "metadata": {},
   "source": [
    "# Benchmarking"
   ]
  },
  {
   "cell_type": "markdown",
   "id": "4e01eb2f",
   "metadata": {},
   "source": [
    "### Gaussian blur"
   ]
  },
  {
   "cell_type": "code",
   "execution_count": 2,
   "id": "2cef34ef",
   "metadata": {},
   "outputs": [],
   "source": [
    "from skimage.filters import gaussian\n",
    "\n",
    "sig = 5\n",
    "\n",
    "array = np.random.random([100, 1000, 1000])\n",
    "cle_array = cle.push(array)"
   ]
  },
  {
   "cell_type": "code",
   "execution_count": 3,
   "id": "d911e7f8",
   "metadata": {},
   "outputs": [
    {
     "name": "stdout",
     "output_type": "stream",
     "text": [
      "5.18 s ± 5.59 ms per loop (mean ± std. dev. of 7 runs, 1 loop each)\n"
     ]
    }
   ],
   "source": [
    "%%timeit\n",
    "_ = gaussian(array, sigma=5)"
   ]
  },
  {
   "cell_type": "code",
   "execution_count": 4,
   "id": "3efd510e",
   "metadata": {},
   "outputs": [
    {
     "name": "stdout",
     "output_type": "stream",
     "text": [
      "84.6 ms ± 467 µs per loop (mean ± std. dev. of 7 runs, 10 loops each)\n"
     ]
    }
   ],
   "source": [
    "%%timeit\n",
    "_ = cle.gaussian_blur(cle_array, sigma_x=sig, sigma_y=sig, sigma_z=sig)"
   ]
  },
  {
   "cell_type": "markdown",
   "id": "56928bdf",
   "metadata": {},
   "source": [
    "### Otsu Thresholding"
   ]
  },
  {
   "cell_type": "code",
   "execution_count": 5,
   "id": "7a39f02c",
   "metadata": {},
   "outputs": [],
   "source": [
    "from skimage.filters import threshold_otsu\n",
    "\n",
    "array = np.random.random([100, 1000, 1000])\n",
    "cle_array = cle.push(array)"
   ]
  },
  {
   "cell_type": "code",
   "execution_count": 6,
   "id": "d45ae6bc",
   "metadata": {},
   "outputs": [
    {
     "name": "stdout",
     "output_type": "stream",
     "text": [
      "1.46 s ± 1.28 ms per loop (mean ± std. dev. of 7 runs, 1 loop each)\n"
     ]
    }
   ],
   "source": [
    "%%timeit\n",
    "_ = array > threshold_otsu(array)"
   ]
  },
  {
   "cell_type": "code",
   "execution_count": 7,
   "id": "503bb979",
   "metadata": {},
   "outputs": [
    {
     "name": "stdout",
     "output_type": "stream",
     "text": [
      "58.7 ms ± 184 µs per loop (mean ± std. dev. of 7 runs, 10 loops each)\n"
     ]
    }
   ],
   "source": [
    "%%timeit\n",
    "_ = cle.threshold_otsu(cle_array)"
   ]
  },
  {
   "cell_type": "markdown",
   "id": "7f60aa2e",
   "metadata": {},
   "source": [
    "### Matrix multiplication"
   ]
  },
  {
   "cell_type": "code",
   "execution_count": 11,
   "id": "675bef4d",
   "metadata": {},
   "outputs": [],
   "source": [
    "matrix1 = np.random.random((1024, 512))\n",
    "matrix2 = np.random.random((512, 1024))\n",
    "\n",
    "cl_matrix1 = cle.push(matrix1)\n",
    "cl_matrix2 = cle.push(matrix2)"
   ]
  },
  {
   "cell_type": "code",
   "execution_count": 12,
   "id": "e6b639be",
   "metadata": {},
   "outputs": [
    {
     "name": "stdout",
     "output_type": "stream",
     "text": [
      "3.91 ms ± 607 µs per loop (mean ± std. dev. of 7 runs, 100 loops each)\n"
     ]
    }
   ],
   "source": [
    "%%timeit\n",
    "_ = np.matmul(matrix1, matrix2)"
   ]
  },
  {
   "cell_type": "code",
   "execution_count": 13,
   "id": "e82e5935",
   "metadata": {},
   "outputs": [
    {
     "name": "stdout",
     "output_type": "stream",
     "text": [
      "2.16 ms ± 67.1 µs per loop (mean ± std. dev. of 7 runs, 100 loops each)\n"
     ]
    }
   ],
   "source": [
    "%%timeit\n",
    "_ = cle.multiply_matrix(cl_matrix1, cl_matrix2)"
   ]
  }
 ],
 "metadata": {
  "kernelspec": {
   "display_name": "Python 3 (ipykernel)",
   "language": "python",
   "name": "python3"
  },
  "language_info": {
   "codemirror_mode": {
    "name": "ipython",
    "version": 3
   },
   "file_extension": ".py",
   "mimetype": "text/x-python",
   "name": "python",
   "nbconvert_exporter": "python",
   "pygments_lexer": "ipython3",
   "version": "3.11.4"
  }
 },
 "nbformat": 4,
 "nbformat_minor": 5
}
