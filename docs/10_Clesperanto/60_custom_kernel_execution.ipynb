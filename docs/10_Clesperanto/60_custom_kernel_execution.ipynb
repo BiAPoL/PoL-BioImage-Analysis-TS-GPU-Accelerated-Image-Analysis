{
 "cells": [
  {
   "cell_type": "code",
   "execution_count": 5,
   "id": "33e723b9",
   "metadata": {},
   "outputs": [
    {
     "data": {
      "text/plain": [
       "<NVIDIA GeForce RTX 2080 SUPER on Platform: NVIDIA CUDA (1 refs)>"
      ]
     },
     "execution_count": 5,
     "metadata": {},
     "output_type": "execute_result"
    }
   ],
   "source": [
    "import pyclesperanto_prototype as cle\n",
    "import numpy as np\n",
    "from skimage.io import imread, imshow\n",
    "import matplotlib.pyplot as plt\n",
    "cle.select_device('TX')  # TODO: change to your GPU"
   ]
  },
  {
   "cell_type": "markdown",
   "id": "71a3a51a",
   "metadata": {},
   "source": [
    "# Custom kernel execution"
   ]
  },
  {
   "cell_type": "markdown",
   "id": "16181d74",
   "metadata": {},
   "source": [
    "The library clesperanto contains a function `execute` which is the method that is used to execute a kernel code on the GPU. If we look at its signature, it take the following inputs:\n",
    "- `anchor`: a reference starting path\n",
    "- `opencl_kernel_filename`: an OpenCL kernel file which will be loaded\n",
    "- `kernel_name`: the name of the kernel function to be executed inside the kernel file (usually the same as the filename)\n",
    "- `global_size`: the working space of the kernel, usually the size of the image to be processed BUT not always\n",
    "- `parameters`: a `dict` of parameters as `{key, variable}` to be passed to the kernel function"
   ]
  },
  {
   "cell_type": "code",
   "execution_count": 6,
   "id": "52be51ad",
   "metadata": {},
   "outputs": [
    {
     "name": "stdout",
     "output_type": "stream",
     "text": [
      "\u001b[0;31mSignature:\u001b[0m\n",
      "\u001b[0mcle\u001b[0m\u001b[0;34m.\u001b[0m\u001b[0mexecute\u001b[0m\u001b[0;34m(\u001b[0m\u001b[0;34m\u001b[0m\n",
      "\u001b[0;34m\u001b[0m    \u001b[0manchor\u001b[0m\u001b[0;34m,\u001b[0m\u001b[0;34m\u001b[0m\n",
      "\u001b[0;34m\u001b[0m    \u001b[0mopencl_kernel_filename\u001b[0m\u001b[0;34m:\u001b[0m \u001b[0mstr\u001b[0m\u001b[0;34m,\u001b[0m\u001b[0;34m\u001b[0m\n",
      "\u001b[0;34m\u001b[0m    \u001b[0mkernel_name\u001b[0m\u001b[0;34m:\u001b[0m \u001b[0mstr\u001b[0m\u001b[0;34m,\u001b[0m\u001b[0;34m\u001b[0m\n",
      "\u001b[0;34m\u001b[0m    \u001b[0mglobal_size\u001b[0m\u001b[0;34m,\u001b[0m\u001b[0;34m\u001b[0m\n",
      "\u001b[0;34m\u001b[0m    \u001b[0mparameters\u001b[0m\u001b[0;34m,\u001b[0m\u001b[0;34m\u001b[0m\n",
      "\u001b[0;34m\u001b[0m    \u001b[0mprog\u001b[0m\u001b[0;34m=\u001b[0m\u001b[0;32mNone\u001b[0m\u001b[0;34m,\u001b[0m\u001b[0;34m\u001b[0m\n",
      "\u001b[0;34m\u001b[0m    \u001b[0mconstants\u001b[0m\u001b[0;34m=\u001b[0m\u001b[0;32mNone\u001b[0m\u001b[0;34m,\u001b[0m\u001b[0;34m\u001b[0m\n",
      "\u001b[0;34m\u001b[0m    \u001b[0mimage_size_independent_kernel_compilation\u001b[0m\u001b[0;34m:\u001b[0m \u001b[0mbool\u001b[0m \u001b[0;34m=\u001b[0m \u001b[0;32mNone\u001b[0m\u001b[0;34m,\u001b[0m\u001b[0;34m\u001b[0m\n",
      "\u001b[0;34m\u001b[0m    \u001b[0mdevice\u001b[0m\u001b[0;34m=\u001b[0m\u001b[0;32mNone\u001b[0m\u001b[0;34m,\u001b[0m\u001b[0;34m\u001b[0m\n",
      "\u001b[0;34m\u001b[0m\u001b[0;34m)\u001b[0m\u001b[0;34m\u001b[0m\u001b[0;34m\u001b[0m\u001b[0m\n",
      "\u001b[0;31mDocstring:\u001b[0m\n",
      "Call opencl kernels (.cl files)\n",
      "\n",
      "Parameters\n",
      "----------\n",
      "anchor: str\n",
      "        Enter __file__ when calling this method and the corresponding open.cl\n",
      "        file lies in the same folder as the python file calling it.\n",
      "opencl_kernel_filename: str\n",
      "    Filename of the open.cl file to be called\n",
      "kernel_name: str\n",
      "    kernel method inside the open.cl file to be called\n",
      "    most clij/clesperanto kernel functions have the same name as the file they are in\n",
      "global_size: list(int)\n",
      "    global_size according to OpenCL definition (usually shape of the destination image).\n",
      "parameters: dict(str, any), optional\n",
      "    dictionary containing parameters. Take care: They must be of the\n",
      "    right type and in the right order as specified in the open.cl file.\n",
      "constants: dict(str, any), optional\n",
      "    dictionary with names/values which will be added to the define\n",
      "    statements. They are necessary, e.g. to create arrays of a given\n",
      "    maximum size in OpenCL as variable array lengths are not supported.\n",
      "image_size_independent_kernel_compilation: bool, optional\n",
      "    if set to true, the kernel can handle images of different size and\n",
      "    is a bit slower. If set to false, it can handle only images of a\n",
      "    specific size and is a bit faster\n",
      "\n",
      "See Also\n",
      "--------\n",
      "https://github.com/clij/clij-clearcl/blob/master/src/main/java/net/haesleinhuepf/clij/clearcl/util/CLKernelExecutor.java\n",
      "\u001b[0;31mFile:\u001b[0m      ~/Libraries/miniconda3/envs/proto/lib/python3.11/site-packages/pyclesperanto_prototype/_tier0/_execute.py\n",
      "\u001b[0;31mType:\u001b[0m      function"
     ]
    }
   ],
   "source": [
    "cle.execute?"
   ]
  },
  {
   "cell_type": "markdown",
   "id": "ab57a70b",
   "metadata": {},
   "source": [
    "If we get the maximum_z_projection.cl file from the repository, we can execute it using the following code:\n",
    "\n",
    "First, as always, we need some input data:"
   ]
  },
  {
   "cell_type": "code",
   "execution_count": 7,
   "id": "0f41c1d3",
   "metadata": {},
   "outputs": [],
   "source": [
    "z,y,x = 100, 512, 512\n",
    "array = np.random.random((z,y,x)).astype(np.float32)"
   ]
  },
  {
   "cell_type": "markdown",
   "id": "185149e2",
   "metadata": {},
   "source": [
    "From there, we will need first to push the data to the GPU, create an output data object, defined the function parameters, and finally execute the kernel.\n",
    "\n",
    "Before we run this cell, let's look at the kernel code itself to understand what it does, and why we need to define these parameters as we do.\n",
    "\n",
    "```c\n",
    "// maximum_z_projection.cl\n",
    "\n",
    "// the sample define the GPU behaviour when accessing pixels outside of the image\n",
    "__constant sampler_t sampler = CLK_NORMALIZED_COORDS_FALSE | CLK_ADDRESS_CLAMP_TO_EDGE | CLK_FILTER_NEAREST;\n",
    "\n",
    "// the kernel function itself, with the parameters. The order of the parameters is important.\n",
    "__kernel void maximum_z_projection(\n",
    "    IMAGE_src_TYPE  src,            // the input image, named 'src' \n",
    "    IMAGE_dst_TYPE  dst             // the output image, named 'dst'\n",
    ") \n",
    "{\n",
    "  const int x = get_global_id(0);  // the x coordinate of the current pixel, provided by the GPU thread\n",
    "  const int y = get_global_id(1);  // the y coordinate of the current pixel, provided by the GPU thread\n",
    "\n",
    "  IMAGE_src_PIXEL_TYPE max = 0;\n",
    "  for (int z = 0; z < GET_IMAGE_DEPTH(src); ++z)  // loop over all z-axis range of the image\n",
    "  {\n",
    "    // read the pixel value at the current position (x,y,z) from the input image 'src'\n",
    "    const IMAGE_src_PIXEL_TYPE value = READ_IMAGE(src, sampler, POS_src_INSTANCE(x,y,z,0)).x;  \n",
    "\n",
    "    // conditional statement to find the maximum value\n",
    "    if (value > max || z == 0) {  \n",
    "      max = value;\n",
    "    }\n",
    "  }\n",
    "\n",
    "  // write the pixel value at the current position (x,y,z) of the output image 'dst'\n",
    "  WRITE_IMAGE(dst, POS_dst_INSTANCE(x,y,0,0), CONVERT_dst_PIXEL_TYPE(max));\n",
    "}\n",
    "```"
   ]
  },
  {
   "cell_type": "code",
   "execution_count": 13,
   "id": "4fb0a98a",
   "metadata": {},
   "outputs": [],
   "source": [
    "# Prepare the input and output memory\n",
    "input_arg = cle.push(array)\n",
    "output_arg = cle.create_like((y,x)) # the z dimension is 1 because we will project into 2D along the z axis\n",
    "\n",
    "# build the dictionary of parameters of the kernel\n",
    "parameters = {'src': input_arg, 'dst': output_arg} # the key (e.g. 'src', 'dst') is the name of the variable in the kernel code\n",
    "                                                   # the order of the parameters is the same as in the kernel code\n",
    "\n",
    "# define the path and name of the kernel file to run\n",
    "opencl_kernel_filename = 'maximum_z_projection.cl' # the name of the file\n",
    "kernel_name = 'maximum_z_projection'               # the name of the kernel function in the kernel file\n",
    "\n",
    "# define the working range of GPU\n",
    "working_range = output_arg.shape\n"
   ]
  },
  {
   "cell_type": "markdown",
   "id": "f1bc0647",
   "metadata": {},
   "source": [
    "The working range is the most abstract parameter to understand. One way to see it is, if we could associate 1 pixel with 1 thread, the working range would be the number of threads we would need to execute the process. Here, we are projecting along the z, hence in an ideal work, we would have 1 thread per pixel (x,y). We do not need to cover the z dimension. The working range is then the number of pixels in the x and y dimensions which here is the same as the output image shape.\n",
    "\n",
    "Let's run the `execute` method now"
   ]
  },
  {
   "cell_type": "code",
   "execution_count": 14,
   "id": "b96e6d71",
   "metadata": {},
   "outputs": [
    {
     "name": "stderr",
     "output_type": "stream",
     "text": [
      "4 warnings generated.\n"
     ]
    },
    {
     "data": {
      "text/plain": [
       "<pyclesperanto_prototype._tier0._program.OCLProgram at 0x7f8fcd872450>"
      ]
     },
     "execution_count": 14,
     "metadata": {},
     "output_type": "execute_result"
    }
   ],
   "source": [
    "cle.execute(\"__FILE__\",opencl_kernel_filename, kernel_name, working_range, parameters)"
   ]
  },
  {
   "cell_type": "markdown",
   "id": "511d85ad",
   "metadata": {},
   "source": [
    "Notice that we do not return an output. Here the GPU read the input `src` and saved the results in the `dst` data which correspond to our `output_arg` variable.\n",
    "\n",
    "All we have to do to read it now is to `pull` it back to the CPU:"
   ]
  },
  {
   "cell_type": "code",
   "execution_count": 15,
   "id": "9692fa66",
   "metadata": {},
   "outputs": [
    {
     "data": {
      "text/plain": [
       "(512, 512)"
      ]
     },
     "execution_count": 15,
     "metadata": {},
     "output_type": "execute_result"
    }
   ],
   "source": [
    "projected = cle.pull(output_arg)\n",
    "projected.shape"
   ]
  },
  {
   "cell_type": "markdown",
   "id": "6a6726f2",
   "metadata": {},
   "source": [
    "Last step, let's check that what we deed is actually correct by comparing it to the same process but on the CPU."
   ]
  },
  {
   "cell_type": "code",
   "execution_count": 17,
   "id": "19f3428c",
   "metadata": {},
   "outputs": [],
   "source": [
    "cpu_projected = array.max(axis=0)\n",
    "cpu_projected.shape\n",
    "\n",
    "assert np.array_equal(projected, cpu_projected)"
   ]
  }
 ],
 "metadata": {
  "kernelspec": {
   "display_name": "Python 3 (ipykernel)",
   "language": "python",
   "name": "python3"
  },
  "language_info": {
   "codemirror_mode": {
    "name": "ipython",
    "version": 3
   },
   "file_extension": ".py",
   "mimetype": "text/x-python",
   "name": "python",
   "nbconvert_exporter": "python",
   "pygments_lexer": "ipython3",
   "version": "3.11.4"
  }
 },
 "nbformat": 4,
 "nbformat_minor": 5
}
