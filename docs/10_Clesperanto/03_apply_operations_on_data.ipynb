{
 "cells": [
  {
   "cell_type": "code",
   "execution_count": null,
   "id": "33e723b9",
   "metadata": {},
   "outputs": [],
   "source": [
    "import pyclesperanto_prototype as cle\n",
    "import numpy as np\n",
    "from skimage.io import imread, imshow\n",
    "cle.select_device('TX')  # TODO: change to your GPU"
   ]
  },
  {
   "cell_type": "markdown",
   "id": "71a3a51a",
   "metadata": {},
   "source": [
    "# Apply operations on data"
   ]
  },
  {
   "cell_type": "markdown",
   "id": "0575c010",
   "metadata": {},
   "source": []
  }
 ],
 "metadata": {
  "kernelspec": {
   "display_name": "Python 3 (ipykernel)",
   "language": "python",
   "name": "python3"
  },
  "language_info": {
   "codemirror_mode": {
    "name": "ipython",
    "version": 3
   },
   "file_extension": ".py",
   "mimetype": "text/x-python",
   "name": "python",
   "nbconvert_exporter": "python",
   "pygments_lexer": "ipython3",
   "version": "3.11.4"
  }
 },
 "nbformat": 4,
 "nbformat_minor": 5
}
