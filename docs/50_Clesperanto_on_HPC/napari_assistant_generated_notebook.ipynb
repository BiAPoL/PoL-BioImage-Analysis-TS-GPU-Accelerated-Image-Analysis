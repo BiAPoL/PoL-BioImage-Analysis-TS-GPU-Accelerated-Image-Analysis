{
 "cells": [
  {
   "cell_type": "code",
   "execution_count": null,
   "id": "02288901",
   "metadata": {
    "lines_to_next_cell": 2
   },
   "outputs": [],
   "source": [
    "from skimage.io import imread\n",
    "import pyclesperanto_prototype as cle  # version 0.22.0"
   ]
  },
  {
   "cell_type": "markdown",
   "id": "948f789a",
   "metadata": {},
   "source": [
    "## Loading 'blobs'"
   ]
  },
  {
   "cell_type": "code",
   "execution_count": null,
   "id": "d88bf584",
   "metadata": {
    "lines_to_next_cell": 2
   },
   "outputs": [],
   "source": [
    "image0_b = imread(\n",
    "    \"C:/Users/haase/mambaforge/envs/bio39/lib/site-packages/napari_pyclesperanto_assistant/data/blobs.tif\")\n",
    "image0_b"
   ]
  },
  {
   "cell_type": "markdown",
   "id": "853ced0a",
   "metadata": {},
   "source": [
    "## gaussian blur"
   ]
  },
  {
   "cell_type": "code",
   "execution_count": null,
   "id": "ce6be712",
   "metadata": {},
   "outputs": [],
   "source": [
    "image1_gb = cle.gaussian_blur(image0_b, None, 1.0, 1.0, 0.0)\n",
    "image1_gb"
   ]
  },
  {
   "cell_type": "markdown",
   "id": "7b675a36",
   "metadata": {},
   "source": [
    "## threshold otsu"
   ]
  },
  {
   "cell_type": "code",
   "execution_count": null,
   "id": "8f4bc144",
   "metadata": {},
   "outputs": [],
   "source": [
    "image2_to = cle.threshold_otsu(image1_gb)\n",
    "image2_to"
   ]
  },
  {
   "cell_type": "markdown",
   "id": "f5f69e98",
   "metadata": {},
   "source": [
    "## connected components labeling box"
   ]
  },
  {
   "cell_type": "code",
   "execution_count": null,
   "id": "6af0436b",
   "metadata": {},
   "outputs": [],
   "source": [
    "image3_cclb = cle.connected_components_labeling_box(image2_to)\n",
    "image3_cclb"
   ]
  }
 ],
 "metadata": {
  "jupytext": {
   "cell_metadata_filter": "-all",
   "main_language": "python",
   "notebook_metadata_filter": "-all"
  }
 },
 "nbformat": 4,
 "nbformat_minor": 5
}
