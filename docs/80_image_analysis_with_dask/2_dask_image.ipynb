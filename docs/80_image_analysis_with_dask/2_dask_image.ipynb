{
 "cells": [
  {
   "cell_type": "markdown",
   "metadata": {},
   "source": [
    "# Practical 2: Dask with images\n",
    "\n",
    "In the previous practical, we've seen that dask can help us parallelise computations on arrays. This can be useful for many operations typically performed on arrays like filtering."
   ]
  },
  {
   "cell_type": "code",
   "execution_count": null,
   "metadata": {},
   "outputs": [],
   "source": [
    "# Let's load an example image\n",
    "\n",
    "import numpy as np\n",
    "from skimage import data\n",
    "from scipy import ndimage\n",
    "import tifffile\n",
    "\n",
    "%matplotlib notebook\n",
    "\n",
    "img = data.cells3d()\n",
    "img = img.max(0)[1] # take only one channel and max project\n",
    "img = ndimage.zoom(img, 10, order=1) # zoom in\n",
    "\n",
    "tifffile.imshow(img)"
   ]
  },
  {
   "cell_type": "markdown",
   "metadata": {},
   "source": [
    "How long does a gaussian filter take when applied to the entire image?"
   ]
  },
  {
   "cell_type": "code",
   "execution_count": null,
   "metadata": {},
   "outputs": [],
   "source": [
    "%%timeit -r 3\n",
    "ndimage.gaussian_filter(img, sigma=5, mode='constant')"
   ]
  },
  {
   "cell_type": "markdown",
   "metadata": {},
   "source": [
    "What if we subdivide the array into chunks and apply this filter to each chunk?"
   ]
  },
  {
   "cell_type": "code",
   "execution_count": null,
   "metadata": {},
   "outputs": [],
   "source": [
    "import dask.array as da\n",
    "\n",
    "img_da = da.from_array(img,\n",
    "                       chunks=(500, 500),\n",
    "                       )\n",
    "img_da"
   ]
  },
  {
   "cell_type": "markdown",
   "metadata": {},
   "source": [
    "### `map_blocks`\n",
    "We can use `dask.array.map_blocks` to apply a function to each chunk (or block) of the dask array."
   ]
  },
  {
   "cell_type": "code",
   "execution_count": null,
   "metadata": {},
   "outputs": [],
   "source": [
    "filtered = da.map_blocks(\n",
    "            ndimage.gaussian_filter, # the function to apply to each chunk\n",
    "            img_da, # the array to apply the function to\n",
    "            sigma=5, # arguments to the function\n",
    "            mode='constant',\n",
    "            )\n",
    "filtered"
   ]
  },
  {
   "cell_type": "markdown",
   "metadata": {},
   "source": [
    "Does this improve the timing?"
   ]
  },
  {
   "cell_type": "code",
   "execution_count": null,
   "metadata": {},
   "outputs": [],
   "source": [
    "%%timeit -r 3\n",
    "filtered.compute(scheduler='threads')"
   ]
  },
  {
   "cell_type": "code",
   "execution_count": null,
   "metadata": {},
   "outputs": [],
   "source": [
    "%%timeit -r 3\n",
    "filtered.compute(scheduler='processes')"
   ]
  },
  {
   "cell_type": "markdown",
   "metadata": {},
   "source": [
    "Performance comparison: Applying the gaussian filter on each funk is faster when using multi-threading than when using multi-processing.\n",
    "\n",
    "Why is this? While threads share memory, different processes need to send data back and forth, which can create considerable overhead."
   ]
  },
  {
   "cell_type": "markdown",
   "metadata": {},
   "source": [
    "Let's have a look at the output image."
   ]
  },
  {
   "cell_type": "code",
   "execution_count": null,
   "metadata": {},
   "outputs": [],
   "source": [
    "print('entire image')\n",
    "filtered_ndimage = ndimage.gaussian_filter(img, sigma=5, mode='constant')\n",
    "tifffile.imshow(filtered_ndimage)\n",
    "\n",
    "print('dask.array.map_blocks')\n",
    "tifffile.imshow(filtered)"
   ]
  },
  {
   "cell_type": "markdown",
   "metadata": {},
   "source": [
    "We can prevent these border artefacts by using `map_overlap` instead of `map_blocks`.\n",
    "\n",
    "This:\n",
    "1) adds neighboring chunk values to the borders of each chunk)\n",
    "2) applies map_blocks as before\n",
    "3) trims the previously added overlap from each chunk"
   ]
  },
  {
   "cell_type": "code",
   "execution_count": null,
   "metadata": {},
   "outputs": [],
   "source": [
    "filtered_overlap = \\\n",
    "    da.map_overlap(\n",
    "            ndimage.gaussian_filter, # the function to apply to each chunk\n",
    "            img_da, # the array to apply the function to\n",
    "            sigma=5, # arguments to the function\n",
    "            mode='constant',\n",
    "            depth={0: 11, 1: 11}\n",
    "            )\n",
    "filtered_overlap"
   ]
  },
  {
   "cell_type": "code",
   "execution_count": null,
   "metadata": {},
   "outputs": [],
   "source": [
    "tifffile.imshow(filtered_overlap.compute())"
   ]
  },
  {
   "cell_type": "code",
   "execution_count": null,
   "metadata": {},
   "outputs": [],
   "source": [
    "%%timeit -r 3\n",
    "filtered_overlap.compute(scheduler='threads')"
   ]
  },
  {
   "cell_type": "markdown",
   "metadata": {},
   "source": [
    "## dask-image\n",
    "\n",
    "There's a python package which automatically deals with these border effects and other problems that can occur when applying the functions available from scipy.ndimage to tiled dask arrays.\n",
    "\n",
    "https://image.dask.org/en/latest/\n",
    "\n",
    "The available `ndimage` functions:\n",
    "https://image.dask.org/en/latest/coverage.html\n",
    "\n",
    "Among others:\n",
    "- affine_transform\n",
    "- label\n",
    "- ..."
   ]
  },
  {
   "cell_type": "code",
   "execution_count": null,
   "metadata": {},
   "outputs": [],
   "source": [
    "from dask_image import ndfilters\n",
    "\n",
    "filtered_di = ndfilters.gaussian_filter(img_da, sigma=5, mode='constant')\n",
    "filtered_di"
   ]
  },
  {
   "cell_type": "code",
   "execution_count": null,
   "metadata": {},
   "outputs": [],
   "source": [
    "tifffile.imshow(filtered_di.compute())"
   ]
  },
  {
   "cell_type": "code",
   "execution_count": null,
   "metadata": {},
   "outputs": [],
   "source": [
    "%%timeit -r 3\n",
    "filtered_di.compute()"
   ]
  },
  {
   "cell_type": "markdown",
   "metadata": {},
   "source": [
    "## More dask-image features"
   ]
  },
  {
   "cell_type": "markdown",
   "metadata": {},
   "source": [
    "### Connected components"
   ]
  },
  {
   "cell_type": "code",
   "execution_count": null,
   "metadata": {},
   "outputs": [],
   "source": [
    "img_da = da.from_array(img, chunks=500)\n",
    "seg = (ndfilters.gaussian_filter(img_da, sigma=10, mode='constant') > 10000)\n",
    "tifffile.imshow(seg)"
   ]
  },
  {
   "cell_type": "code",
   "execution_count": null,
   "metadata": {
    "scrolled": false
   },
   "outputs": [],
   "source": [
    "# Let's calculate connected components on each chunk of the segmentation image\n",
    "\n",
    "def connected_components(im):\n",
    "    return ndimage.label(im)[0]\n",
    "\n",
    "labels = seg.map_blocks(connected_components)\n",
    "tifffile.imshow(labels)"
   ]
  },
  {
   "cell_type": "code",
   "execution_count": null,
   "metadata": {
    "scrolled": false
   },
   "outputs": [],
   "source": [
    "# Using overlap does not help in this case\n",
    "\n",
    "def connected_components(im):\n",
    "    return ndimage.label(im)[0]\n",
    "\n",
    "labels = seg.map_overlap(\n",
    "    connected_components,\n",
    "    depth=100,\n",
    ")\n",
    "tifffile.imshow(np.array(labels))"
   ]
  },
  {
   "cell_type": "code",
   "execution_count": null,
   "metadata": {},
   "outputs": [],
   "source": [
    "# dask-image implements connected components\n",
    "\n",
    "from dask_image import ndmeasure\n",
    "labels = ndmeasure.label(seg)[0]\n",
    "tifffile.imshow(labels)"
   ]
  },
  {
   "cell_type": "markdown",
   "metadata": {},
   "source": [
    "### Affine transformations"
   ]
  },
  {
   "cell_type": "code",
   "execution_count": null,
   "metadata": {},
   "outputs": [],
   "source": [
    "# Define a transformation\n",
    "\n",
    "from scipy.spatial.transform import Rotation as R\n",
    "\n",
    "# rotation\n",
    "matrix = R.from_rotvec(np.pi/4. * np.array([0, 0, 1])).as_matrix()[:2, :2]\n",
    "offset = np.array([1200., -600])\n",
    "\n",
    "print('Matrix:', matrix)\n",
    "print('Offset:', offset)"
   ]
  },
  {
   "cell_type": "code",
   "execution_count": null,
   "metadata": {},
   "outputs": [],
   "source": [
    "# Transform the image using plain scipy\n",
    "\n",
    "img_t = ndimage.affine_transform(\n",
    "    img,\n",
    "    matrix=matrix,\n",
    "    offset=offset,\n",
    "    order=1, # linear interpolation\n",
    "    )\n",
    "\n",
    "tifffile.imshow(img_t)"
   ]
  },
  {
   "cell_type": "code",
   "execution_count": null,
   "metadata": {},
   "outputs": [],
   "source": [
    "# Transform the image using dask_image.ndinterp.affine_transformation\n",
    "\n",
    "from dask_image import ndinterp\n",
    "\n",
    "img_t = ndinterp.affine_transform(\n",
    "    img_da,\n",
    "    matrix=matrix,\n",
    "    offset=offset,\n",
    "    order=1, # linear interpolation\n",
    "    output_chunks=500,\n",
    "    ).compute()\n",
    "    \n",
    "tifffile.imshow(img_t)"
   ]
  },
  {
   "cell_type": "markdown",
   "metadata": {},
   "source": [
    "Performance comparison"
   ]
  },
  {
   "cell_type": "code",
   "execution_count": null,
   "metadata": {},
   "outputs": [],
   "source": [
    "%%timeit -r 1\n",
    "\n",
    "img_t = ndimage.affine_transform(\n",
    "    img,\n",
    "    matrix=matrix,\n",
    "    offset=offset,\n",
    "    order=1, # linear interpolation\n",
    "    )"
   ]
  },
  {
   "cell_type": "code",
   "execution_count": null,
   "metadata": {},
   "outputs": [],
   "source": [
    "%%timeit -r 1\n",
    "\n",
    "img_t = ndinterp.affine_transform(\n",
    "    img_da,\n",
    "    matrix=matrix,\n",
    "    offset=offset,\n",
    "    order=1, # linear interpolation\n",
    "    output_chunks=500,\n",
    "    ).compute()"
   ]
  },
  {
   "cell_type": "markdown",
   "metadata": {},
   "source": [
    "## Excercise: Apply a median filter"
   ]
  },
  {
   "cell_type": "code",
   "execution_count": null,
   "metadata": {},
   "outputs": [],
   "source": [
    "filtered = ..."
   ]
  }
 ],
 "metadata": {
  "kernelspec": {
   "display_name": "Python 3 (ipykernel)",
   "language": "python",
   "name": "python3"
  },
  "language_info": {
   "codemirror_mode": {
    "name": "ipython",
    "version": 3
   },
   "file_extension": ".py",
   "mimetype": "text/x-python",
   "name": "python",
   "nbconvert_exporter": "python",
   "pygments_lexer": "ipython3",
   "version": "3.9.18"
  }
 },
 "nbformat": 4,
 "nbformat_minor": 2
}
