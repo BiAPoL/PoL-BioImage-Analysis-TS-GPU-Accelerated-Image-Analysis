{
 "cells": [
  {
   "cell_type": "markdown",
   "metadata": {},
   "source": [
    "## Dask deconvolution\n",
    "\n",
    "With modern (many Gigabyte) image sizes it is often not possible to load the entire image into GPU memory.  And even if the entire image does fit into GPU memory keep in mind multiple buffers are needed to perform FFT Convolution and Deconvolution (remember how many buffers were needed for example 2).\n",
    "\n",
    "In the case where we don't have enough GPU memory to perform the entire calculation, we can use Dask to load the image in chunks and perform the deconvolution on each chunk. This is a bit more complicated than the previous examples, but it is still possible to do it in just a few lines of code."
   ]
  },
  {
   "cell_type": "code",
   "execution_count": 1,
   "metadata": {},
   "outputs": [],
   "source": [
    "import dask.array as da\n",
    "from clij2fft.richardson_lucy import richardson_lucy_nc \n",
    "import numpy as np\n",
    "import stackview\n"
   ]
  },
  {
   "cell_type": "code",
   "execution_count": 2,
   "metadata": {},
   "outputs": [
    {
     "name": "stdout",
     "output_type": "stream",
     "text": [
      "(128, 256, 256) (128, 31, 31)\n"
     ]
    }
   ],
   "source": [
    "from skimage.io import imread\n",
    "\n",
    "im_path='D:/images/i2k2022/deconvolution/'\n",
    "im_name='Bars-G10-P30-stack.tif'\n",
    "psf_name='PSF-Bars-stack.tif'\n",
    "truth_name='Bars-stack.tif'\n",
    "\n",
    "im=imread(im_path+im_name)\n",
    "psf=imread(im_path+psf_name)\n",
    "\n",
    "# define the PSF XY half size and the XY overlap, we want the PSF half size to be smaller than the overlap\n",
    "psfHalfSize = 16\n",
    "\n",
    "# crop PSF using PSFHalfSize\n",
    "psf=psf[:,int(psf.shape[1]/2)-psfHalfSize:int(psf.shape[1]/2)+psfHalfSize-1,int(psf.shape[2]/2)-psfHalfSize:int(psf.shape[2]/2)+psfHalfSize-1]\n",
    "\n",
    "\n",
    "im=im.astype('float32')\n",
    "psf=psf.astype('float32')\n",
    "psf=psf/psf.sum()\n",
    "print(im.shape, psf.shape)"
   ]
  },
  {
   "cell_type": "markdown",
   "metadata": {},
   "source": [
    "## Define number of chunks\n",
    "\n",
    "Define the number of chunks to divide the image into. \n",
    "\n",
    "(In this example the image is relatively small so likely the image and arrays needed for FFT based calculations would fit into the GPU without chunking, in a real life example we would pre-compute the largest chunk size we could process given memory constraints and base the chunk size on that)."
   ]
  },
  {
   "cell_type": "code",
   "execution_count": 3,
   "metadata": {},
   "outputs": [
    {
     "name": "stdout",
     "output_type": "stream",
     "text": [
      "chunks 128 128 128\n"
     ]
    }
   ],
   "source": [
    "num_x_chunks = 2\n",
    "num_y_chunks = 2\n",
    "num_z_chunks = 1\n",
    "\n",
    "z_chunk_size = im.shape[0]\n",
    "y_chunk_size = int(im.shape[1]/num_x_chunks)\n",
    "x_chunk_size = int(im.shape[2]/num_y_chunks)\n",
    "print('chunks', z_chunk_size, y_chunk_size, x_chunk_size)\n",
    "# create dask image\n"
   ]
  },
  {
   "cell_type": "code",
   "execution_count": 4,
   "metadata": {},
   "outputs": [],
   "source": [
    "def deconv_chunk(img):\n",
    "        print(img.shape,psf.shape)\n",
    "        result = richardson_lucy_nc(img, psf, iterations, reg)\n",
    "        print('finished decon chunk')\n",
    "        return result\n",
    "        #return stack"
   ]
  },
  {
   "cell_type": "markdown",
   "metadata": {},
   "source": [
    "## Deconvolve in chunks with overlap between chunks\n",
    "\n",
    "Here we call the dask deconvolution using an overlap factor to prevent edge artifacts between chunks."
   ]
  },
  {
   "cell_type": "code",
   "execution_count": 5,
   "metadata": {},
   "outputs": [
    {
     "name": "stdout",
     "output_type": "stream",
     "text": [
      "(0, 0, 0) (128, 31, 31)\n",
      "(128, 176, 176) (128, 31, 31)\n",
      "get lib\n",
      "finished decon chunk\n",
      "(128, 176, 176) (128, 31, 31)\n",
      "get lib\n",
      "finished decon chunk\n",
      "(128, 176, 176) (128, 31, 31)\n",
      "get lib\n",
      "finished decon chunk\n",
      "(128, 176, 176) (128, 31, 31)\n",
      "get lib\n",
      "finished decon chunk\n"
     ]
    },
    {
     "data": {
      "application/vnd.jupyter.widget-view+json": {
       "model_id": "28d62340ceb74e0095fe48676b9f49d8",
       "version_major": 2,
       "version_minor": 0
      },
      "text/plain": [
       "HBox(children=(VBox(children=(HBox(children=(VBox(children=(ImageWidget(height=256, width=256),)),)), IntSlide…"
      ]
     },
     "execution_count": 5,
     "metadata": {},
     "output_type": "execute_result"
    }
   ],
   "source": [
    "iterations = 100\n",
    "reg = 0.0001\n",
    "\n",
    "overlap = 24\n",
    "dimg = da.from_array(im,chunks=(z_chunk_size, y_chunk_size, x_chunk_size))\n",
    "\n",
    "out = dimg.map_overlap(deconv_chunk, depth={0:0, 1:overlap, 2:overlap}, boundary='reflect', dtype=np.float32)\n",
    "\n",
    "decon_overlap_24 = out.compute(num_workers=1)\n",
    "stackview.orthogonal(decon_overlap_24)\n",
    "    "
   ]
  },
  {
   "cell_type": "markdown",
   "metadata": {},
   "source": [
    "## Deconvolve in chunks with no overlap\n",
    "\n",
    "Here we deconvolve in chunks without overlap (this will be a bit faster and use a little less memory) but as you can see we end up with artifacts on the seems of the chunks."
   ]
  },
  {
   "cell_type": "code",
   "execution_count": 6,
   "metadata": {},
   "outputs": [
    {
     "name": "stdout",
     "output_type": "stream",
     "text": [
      "(0, 0, 0) (128, 31, 31)\n",
      "(128, 128, 128) (128, 31, 31)\n",
      "get lib\n",
      "finished decon chunk\n",
      "(128, 128, 128) (128, 31, 31)\n",
      "get lib\n",
      "finished decon chunk\n",
      "(128, 128, 128) (128, 31, 31)\n",
      "get lib\n",
      "finished decon chunk\n",
      "(128, 128, 128) (128, 31, 31)\n",
      "get lib\n",
      "finished decon chunk\n"
     ]
    },
    {
     "data": {
      "application/vnd.jupyter.widget-view+json": {
       "model_id": "1fc36591ed424fd7948bac5c308e6ba8",
       "version_major": 2,
       "version_minor": 0
      },
      "text/plain": [
       "HBox(children=(VBox(children=(HBox(children=(VBox(children=(ImageWidget(height=256, width=256),)),)), IntSlide…"
      ]
     },
     "execution_count": 6,
     "metadata": {},
     "output_type": "execute_result"
    }
   ],
   "source": [
    "overlap = 0 \n",
    "dimg = da.from_array(im,chunks=(z_chunk_size, y_chunk_size, x_chunk_size))\n",
    "\n",
    "out = dimg.map_overlap(deconv_chunk, depth={0:0, 1:overlap, 2:overlap}, boundary='reflect', dtype=np.float32)\n",
    "\n",
    "decon_overlap_24 = out.compute(num_workers=1)\n",
    "stackview.orthogonal(decon_overlap_24)\n",
    "  "
   ]
  }
 ],
 "metadata": {
  "kernelspec": {
   "display_name": "dresden-decon-test1",
   "language": "python",
   "name": "python3"
  },
  "language_info": {
   "codemirror_mode": {
    "name": "ipython",
    "version": 3
   },
   "file_extension": ".py",
   "mimetype": "text/x-python",
   "name": "python",
   "nbconvert_exporter": "python",
   "pygments_lexer": "ipython3",
   "version": "3.9.16"
  },
  "orig_nbformat": 4
 },
 "nbformat": 4,
 "nbformat_minor": 2
}
