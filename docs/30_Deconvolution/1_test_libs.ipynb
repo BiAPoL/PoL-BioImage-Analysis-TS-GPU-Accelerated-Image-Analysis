{
 "cells": [
  {
   "cell_type": "markdown",
   "id": "1a4f770c",
   "metadata": {},
   "source": [
    "## Setup environment\n",
    "\n",
    "In this notebook we will set up a deconvolution environment, get test images and test that dependencies installed properly.\n",
    "\n",
    "Note the hollow bars test image found in this example was developed by the Biomedical Imaging Group at EPFL and can be found [here](http://bigwww.epfl.ch/deconvolution/bars/).\n",
    "\n",
    "Deconvolution napari is an extension of developmental biology napari but requires a couple of experimental libraries.\n",
    "\n",
    "We could just add these to the devbio-napari environment but it's good practice to install experimental libraries in a new environment. \n",
    "\n",
    "So first use mamba to create a new environment based on devbio-napari\n",
    "\n",
    "```\n",
    "mamba create --name deconvolution-napari-env python=3.9 devbio-napari -c conda-forge -c pytorch\n",
    "```\n",
    "\n",
    "Now install cuda and cupy.  \n",
    "\n",
    "(TODO1: will these be istalled as part of morning session?)\n",
    "(TODO2: clarify whether cupy can work on Mac and provide alternative for example that uses cupy)\n",
    "\n",
    "Note: You can probably use a version different than 11, just make sure cudatookkit and cupy versions are compatible.\n",
    "\n",
    "```\n",
    "mamba install -c conda-forge cudatoolkit=11.2 cudnn=8.1.0\n",
    "pip install cupy-cuda11x\n",
    "```\n",
    "\n",
    "Now let's install the tnia-python library (for projections and some helper functions), clij2-fft (for deconvolution), stardist (for measuring segmentation quality and for an example comparing classical deconvolution to deep learning deconvolution) and psfmodels (for diffractions based PSFs). \n",
    "\n",
    "```\n",
    "pip install git+https://github.com/True-North-Intelligent-Algorithms/tnia-python\n",
    "pip install --index-url https://test.pypi.org/simple/ --no-deps clij2-fft\n",
    "pip install stardist\n",
    "pip install psfmodels\n",
    "```\n",
    "\n",
    "And for an example showing how to simulate images for deconvolution testing (and deep learning training)\n",
    "\n",
    "```\n",
    "pip install raster-geometry\n",
    "```\n",
    "\n",
    "Mac-users may also need to install this:\n",
    "\n",
    "    conda install -c conda-forge ocl_icd_wrapper_apple\n",
    "\n",
    "Linux users may also need to install this:\n",
    "\n",
    "    conda install -c conda-forge ocl-icd-system\n"
   ]
  },
  {
   "cell_type": "markdown",
   "id": "135edfbb-1974-4c2f-95d2-3341f47a9c0d",
   "metadata": {},
   "source": [
    "## Test imports\n",
    "\n",
    "Now test whether the above have been installed properly"
   ]
  },
  {
   "cell_type": "code",
   "execution_count": 14,
   "id": "f6717034-b862-4229-a631-fdacbf625426",
   "metadata": {
    "tags": []
   },
   "outputs": [
    {
     "name": "stdout",
     "output_type": "stream",
     "text": [
      "!ImNotThere NOT found\n",
      "!clij2fft NOT found\n",
      "RLF found\n",
      "!cupy NOT found\n"
     ]
    }
   ],
   "source": [
    "try:\n",
    "    import imnotthere as int\n",
    "    imnothtere_found=True\n",
    "    print('ImNotThere found')\n",
    "except ImportError:\n",
    "    imnotthere_found=False\n",
    "    print('!ImNotThere NOT found')\n",
    "\n",
    "try:\n",
    "    from clij2fft.richardson_lucy import richardson_lucy_nc\n",
    "    clij2_rl_found=True\n",
    "    print('clij2fft found')\n",
    "except ImportError:\n",
    "    clij2_rl_found=False\n",
    "    print('!clij2fft NOT found')\n",
    "    \n",
    "try:\n",
    "    import RedLionfishDeconv as rl\n",
    "    redlionfish_rl_found=True\n",
    "    print('RLF found')\n",
    "except ImportError:\n",
    "    redlionfish_rl_found=False\n",
    "    print('!RLF NOT found')\n",
    "    \n",
    "try:\n",
    "    import cupy as cp\n",
    "    cupy_found=True\n",
    "    print('cupy found')\n",
    "except ImportError:\n",
    "    cupy_found=False\n",
    "    print('!cupy NOT found')\n",
    "    \n",
    "import numpy as np\n",
    "    "
   ]
  },
  {
   "cell_type": "markdown",
   "id": "3f908872",
   "metadata": {},
   "source": [
    "## Get and open test images\n",
    "\n",
    "1.  Get images from this folder https://www.dropbox.com/scl/fo/ngs73x29t1ch8208d75lv/h?rlkey=7acq2epqp1f1x039q833ry6p4&dl=0\n",
    "2.  Beside the ```PoL-BioImage-Analysis-TS-GPU-Accelerated-Image-Analysis``` folder create an images folder and place the deconvolution folder inside of it.\n",
    "2.  In the code snippet below change ```im_path``` to the local location on your machine where you put the above folder\n",
    "3.  Use imread to verify you can open the image, then print the size of the image and verify it is is ```(128,256,256)```\n"
   ]
  },
  {
   "cell_type": "code",
   "execution_count": 15,
   "id": "291dfa5b",
   "metadata": {
    "tags": []
   },
   "outputs": [
    {
     "name": "stdout",
     "output_type": "stream",
     "text": [
      "(128, 256, 256) (128, 256, 256) (128, 256, 256)\n"
     ]
    }
   ],
   "source": [
    "from skimage.io import imread\n",
    "import os\n",
    "\n",
    "im_path=r'../../../images/deconvolution/'\n",
    "im_name='Bars-G10-P30-stack.tif'\n",
    "psf_name='PSF-Bars-stack.tif'\n",
    "truth_name='Bars-stack.tif'\n",
    "\n",
    "im=imread(os.path.join(im_path,im_name))\n",
    "psf=imread(os.path.join(im_path,psf_name))\n",
    "truth=imread(os.path.join(im_path,truth_name))\n",
    "im=im.astype('float32')\n",
    "psf=psf.astype('float32')\n",
    "psf=psf/psf.sum()\n",
    "print(im.shape, psf.shape, truth.shape)"
   ]
  },
  {
   "cell_type": "markdown",
   "id": "6e900d55",
   "metadata": {},
   "source": [
    "## View 3D Data in notebook\n",
    "\n",
    "View the data using xy, xz, and zy max projections.  "
   ]
  },
  {
   "cell_type": "code",
   "execution_count": 16,
   "id": "0d455f0c-1b80-4d26-9037-7df2472fcc0b",
   "metadata": {
    "tags": []
   },
   "outputs": [
    {
     "name": "stdout",
     "output_type": "stream",
     "text": [
      "Hello from decon_helper.py\n",
      "tnia available:  False\n",
      "stackview available:  True\n"
     ]
    },
    {
     "data": {
      "application/vnd.jupyter.widget-view+json": {
       "model_id": "a6eb4ebf30ac43bf88eb25be28c0ce22",
       "version_major": 2,
       "version_minor": 0
      },
      "text/plain": [
       "HBox(children=(VBox(children=(HBox(children=(VBox(children=(ImageWidget(height=256, width=256),)),)), IntSlide…"
      ]
     },
     "execution_count": 16,
     "metadata": {},
     "output_type": "execute_result"
    }
   ],
   "source": [
    "import decon_helper\n",
    "decon_helper.test_helper()\n",
    "\n",
    "decon_helper.show_xyz_slice(im)\n",
    "#import stackview\n",
    "#help(stackview.orthogonal(im, continuous_update=Tru)"
   ]
  },
  {
   "cell_type": "code",
   "execution_count": 17,
   "id": "d775fc11",
   "metadata": {
    "tags": []
   },
   "outputs": [
    {
     "data": {
      "application/vnd.jupyter.widget-view+json": {
       "model_id": "2200ab64eb664103aeccf1a8b667e631",
       "version_major": 2,
       "version_minor": 0
      },
      "text/plain": [
       "HBox(children=(VBox(children=(HBox(children=(VBox(children=(ImageWidget(height=256, width=256),)),)), IntSlide…"
      ]
     },
     "execution_count": 17,
     "metadata": {},
     "output_type": "execute_result"
    }
   ],
   "source": [
    "#stackview.orthogonal(im, continuous_update=True)\n",
    "decon_helper.show_xyz_slice(im)\n",
    "decon_helper.show_xyz_slice(psf)\n",
    "decon_helper.show_xyz_slice(truth)\n"
   ]
  },
  {
   "cell_type": "code",
   "execution_count": 18,
   "id": "79701e68-7e64-457d-b189-975c05297e76",
   "metadata": {
    "tags": []
   },
   "outputs": [
    {
     "data": {
      "application/vnd.jupyter.widget-view+json": {
       "model_id": "0c5c7a6e05fb4101bd49985f6463ef0f",
       "version_major": 2,
       "version_minor": 0
      },
      "text/plain": [
       "HBox(children=(VBox(children=(HBox(children=(VBox(children=(ImageWidget(height=256, width=256),)),)), IntSlide…"
      ]
     },
     "execution_count": 18,
     "metadata": {},
     "output_type": "execute_result"
    }
   ],
   "source": [
    "decon_helper.show_xyz_slice(im, 'tnia')"
   ]
  },
  {
   "cell_type": "markdown",
   "id": "03c565e6",
   "metadata": {},
   "source": [
    "## Import deconvolution libraries\n",
    "\n",
    "Try imnporting the clij2 and redlionfish implementations of Richardson Lucy.  If they are found perform a deconvolution with each library"
   ]
  },
  {
   "cell_type": "code",
   "execution_count": 19,
   "id": "b198d3cb",
   "metadata": {
    "scrolled": true,
    "tags": []
   },
   "outputs": [
    {
     "name": "stdout",
     "output_type": "stream",
     "text": [
      "clij2 rl found False\n",
      "redlionfish rl found True\n"
     ]
    }
   ],
   "source": [
    "try:\n",
    "    from clij2fft.richardson_lucy import richardson_lucy_nc\n",
    "    clij2_rl_found=True\n",
    "    \n",
    "except ImportError:\n",
    "    clij2_rl_found=False\n",
    "try:\n",
    "    import RedLionfishDeconv as rl\n",
    "    redlionfish_rl_found=True\n",
    "except ImportError:\n",
    "    redlionfish_rl_found=False\n",
    "    \n",
    "print('clij2 rl found',clij2_rl_found)\n",
    "print('redlionfish rl found',redlionfish_rl_found)    "
   ]
  },
  {
   "cell_type": "code",
   "execution_count": 20,
   "id": "a35a548e",
   "metadata": {
    "tags": []
   },
   "outputs": [
    {
     "name": "stdout",
     "output_type": "stream",
     "text": [
      "clij2 not found\n"
     ]
    }
   ],
   "source": [
    "if clij2_rl_found==True:\n",
    "    decon_clij2=richardson_lucy_nc(im,psf,100,0)\n",
    "    decon_helper.show_xyz_slice(decon_clij2,'tnia')\n",
    "else:\n",
    "    print('clij2 not found')\n",
    "    decon_clij2=np.zeros_like(im)"
   ]
  },
  {
   "cell_type": "code",
   "execution_count": 21,
   "id": "ecedf148-14f7-44c8-bca5-793ecaf34c83",
   "metadata": {
    "tags": []
   },
   "outputs": [
    {
     "data": {
      "application/vnd.jupyter.widget-view+json": {
       "model_id": "1511a4a1f47e4cfdb88fe286de0a49f6",
       "version_major": 2,
       "version_minor": 0
      },
      "text/plain": [
       "HBox(children=(VBox(children=(HBox(children=(VBox(children=(ImageWidget(height=256, width=256),)),)), IntSlide…"
      ]
     },
     "execution_count": 21,
     "metadata": {},
     "output_type": "execute_result"
    }
   ],
   "source": [
    "decon_helper.show_xyz_slice(decon_clij2)"
   ]
  },
  {
   "cell_type": "code",
   "execution_count": 22,
   "id": "b176e279",
   "metadata": {
    "tags": []
   },
   "outputs": [],
   "source": [
    "if redlionfish_rl_found==True:\n",
    "    decon_rlf=rl.doRLDeconvolutionFromNpArrays(im, psf, niter=100, method='gpu', resAsUint8=False )\n",
    "else:\n",
    "    print('redlionfish not found')\n",
    "    decon_rlf=np.zeros_like(im)"
   ]
  },
  {
   "cell_type": "code",
   "execution_count": 23,
   "id": "5b55e3b5-18af-4595-b52a-c2722b0466b2",
   "metadata": {
    "tags": []
   },
   "outputs": [
    {
     "data": {
      "application/vnd.jupyter.widget-view+json": {
       "model_id": "4e981d5273684cf5be6beff5ba0a6455",
       "version_major": 2,
       "version_minor": 0
      },
      "text/plain": [
       "HBox(children=(VBox(children=(HBox(children=(VBox(children=(ImageWidget(height=256, width=256),)),)), IntSlide…"
      ]
     },
     "execution_count": 23,
     "metadata": {},
     "output_type": "execute_result"
    }
   ],
   "source": [
    "decon_helper.show_xyz_slice(decon_rlf, 'tnia')"
   ]
  },
  {
   "cell_type": "markdown",
   "id": "06d13ffe",
   "metadata": {},
   "source": [
    "## View data in Napari and ask questions\n",
    "\n",
    "View the data in Napari, switch to a 3D view and rotate and explore the dataset?  How good is the reconstruction?  Is it a truer representation of the data as compared to the image?  \n",
    "\n",
    "Excercise: Deconvolve the data for 1000 iterations, or 10,000 if you have a fast GPU (or even 100,000 if you have a fast GPU and a bit of time).  Does the reconstruction continue to improve with more iterations?"
   ]
  },
  {
   "cell_type": "code",
   "execution_count": 24,
   "id": "3875cdca",
   "metadata": {
    "tags": []
   },
   "outputs": [
    {
     "data": {
      "text/plain": [
       "<Image layer 'truth' at 0x7f438f22bfa0>"
      ]
     },
     "execution_count": 24,
     "metadata": {},
     "output_type": "execute_result"
    }
   ],
   "source": [
    "import napari\n",
    "viewer=napari.Viewer()\n",
    "viewer.add_image(im)\n",
    "viewer.add_image(decon_clij2)\n",
    "viewer.add_image(decon_rlf)\n",
    "viewer.add_image(truth)"
   ]
  },
  {
   "cell_type": "code",
   "execution_count": null,
   "id": "ee94e4f6",
   "metadata": {},
   "outputs": [],
   "source": []
  }
 ],
 "metadata": {
  "kernelspec": {
   "display_name": "Python 3 (ipykernel)",
   "language": "python",
   "name": "python3"
  },
  "language_info": {
   "codemirror_mode": {
    "name": "ipython",
    "version": 3
   },
   "file_extension": ".py",
   "mimetype": "text/x-python",
   "name": "python",
   "nbconvert_exporter": "python",
   "pygments_lexer": "ipython3",
   "version": "3.9.16"
  }
 },
 "nbformat": 4,
 "nbformat_minor": 5
}
