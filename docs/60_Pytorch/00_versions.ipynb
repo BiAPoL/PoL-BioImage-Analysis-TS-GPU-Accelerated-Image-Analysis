{
 "cells": [
  {
   "cell_type": "markdown",
   "id": "293e0061-8d1e-42fc-bc50-bc367e69bc07",
   "metadata": {},
   "source": [
    "# Versions"
   ]
  },
  {
   "cell_type": "code",
   "execution_count": null,
   "id": "7c582297",
   "metadata": {},
   "outputs": [],
   "source": [
    "!cd ../.. && sh enable_env_in_jupyter.sh"
   ]
  },
  {
   "cell_type": "code",
   "execution_count": null,
   "id": "38384033",
   "metadata": {},
   "outputs": [],
   "source": [
    "import torch\n",
    "print(torch.__version__)"
   ]
  },
  {
   "cell_type": "code",
   "execution_count": null,
   "id": "685b7d74",
   "metadata": {},
   "outputs": [],
   "source": [
    "import torchvision\n",
    "print(torchvision.__version__)"
   ]
  },
  {
   "cell_type": "code",
   "execution_count": null,
   "id": "9cdffa10",
   "metadata": {},
   "outputs": [],
   "source": [
    "import pytorch_lightning as pl\n",
    "print(pl.__version__)"
   ]
  },
  {
   "cell_type": "code",
   "execution_count": null,
   "id": "444d4fef",
   "metadata": {},
   "outputs": [],
   "source": [
    "import monai\n",
    "print(monai.__version__)"
   ]
  },
  {
   "cell_type": "code",
   "execution_count": null,
   "id": "7f41b1c5",
   "metadata": {},
   "outputs": [],
   "source": [
    "import scipy\n",
    "print(scipy.__version__)"
   ]
  },
  {
   "cell_type": "code",
   "execution_count": null,
   "id": "da8d5db3",
   "metadata": {},
   "outputs": [],
   "source": [
    "print(\"cuda devices available:\", torch.cuda.device_count())"
   ]
  },
  {
   "cell_type": "code",
   "execution_count": null,
   "id": "dff36cda",
   "metadata": {},
   "outputs": [],
   "source": [
    "print(torch.cuda.is_available())"
   ]
  },
  {
   "cell_type": "code",
   "execution_count": null,
   "id": "b0e1ed3e",
   "metadata": {},
   "outputs": [],
   "source": [
    "x = torch.ones(10, 2, 32, 42)"
   ]
  },
  {
   "cell_type": "code",
   "execution_count": null,
   "id": "860fe3ca",
   "metadata": {},
   "outputs": [],
   "source": [
    "device = torch.device(\"cuda\")"
   ]
  },
  {
   "cell_type": "code",
   "execution_count": null,
   "id": "54365f70",
   "metadata": {},
   "outputs": [],
   "source": [
    "x.to(device)"
   ]
  },
  {
   "cell_type": "code",
   "execution_count": null,
   "id": "0c8efaeb",
   "metadata": {},
   "outputs": [],
   "source": []
  }
 ],
 "metadata": {
  "kernelspec": {
   "display_name": "Python 3 (ipykernel)",
   "language": "python",
   "name": "python3"
  },
  "language_info": {
   "codemirror_mode": {
    "name": "ipython",
    "version": 3
   },
   "file_extension": ".py",
   "mimetype": "text/x-python",
   "name": "python",
   "nbconvert_exporter": "python",
   "pygments_lexer": "ipython3",
   "version": "3.9.16"
  }
 },
 "nbformat": 4,
 "nbformat_minor": 5
}
